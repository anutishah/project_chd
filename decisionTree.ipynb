{
  "nbformat": 4,
  "nbformat_minor": 0,
  "metadata": {
    "colab": {
      "provenance": [],
      "authorship_tag": "ABX9TyPhXr2pnB0WbSwDqzxZeWB3",
      "include_colab_link": true
    },
    "kernelspec": {
      "name": "python3",
      "display_name": "Python 3"
    },
    "language_info": {
      "name": "python"
    }
  },
  "cells": [
    {
      "cell_type": "markdown",
      "metadata": {
        "id": "view-in-github",
        "colab_type": "text"
      },
      "source": [
        "<a href=\"https://colab.research.google.com/github/anutishah/project_chd/blob/main/decisionTree.ipynb\" target=\"_parent\"><img src=\"https://colab.research.google.com/assets/colab-badge.svg\" alt=\"Open In Colab\"/></a>"
      ]
    },
    {
      "cell_type": "code",
      "execution_count": 5,
      "metadata": {
        "colab": {
          "base_uri": "https://localhost:8080/"
        },
        "id": "eY8O2Xz_p8VE",
        "outputId": "ec7f8670-b3f5-4b17-faef-45f051af94a9"
      },
      "outputs": [
        {
          "output_type": "stream",
          "name": "stdout",
          "text": [
            "Accuracy: 0.7777777777777778\n",
            "DecisionTreeClassifier(random_state=42)\n"
          ]
        }
      ],
      "source": [
        "import numpy as np\n",
        "import pandas as pd\n",
        "import seaborn as sns\n",
        "import matplotlib.pyplot as plt\n",
        "import pandas as pd\n",
        "from sklearn.model_selection import train_test_split\n",
        "from sklearn.tree import DecisionTreeClassifier\n",
        "from sklearn.metrics import accuracy_score\n",
        "\n",
        "# Load dataset (replace this with your dataset)\n",
        "data = pd.read_csv('/content/fhs_test.csv')\n",
        "\n",
        "# Select relevant variables (age, cholesterol levels, blood pressure) and CHD status\n",
        "selected_features = ['age', 'totChol', 'diaBP']\n",
        "target_variable = 'TenYearCHD'\n",
        "\n",
        "# Filter dataset to include only selected features and target variable\n",
        "data = data[selected_features + [target_variable]]\n",
        "\n",
        "# Handle missing values if any\n",
        "data.dropna(inplace=True)\n",
        "\n",
        "# Split data into features (X) and target variable (y)\n",
        "X = data[selected_features]\n",
        "y = data[target_variable]\n",
        "\n",
        "# Split data into training and testing sets (70% train, 30% test)\n",
        "X_train, X_test, y_train, y_test = train_test_split(X, y, test_size=0.3, random_state=42)\n",
        "\n",
        "# Build decision tree model\n",
        "clf = DecisionTreeClassifier(random_state=42)\n",
        "clf.fit(X_train, y_train)\n",
        "var_names = cart.feature_names_in_\n",
        "plot_tree(cart,filled=True,feature_names=var_names)\n",
        "plt.show()\n",
        "\n",
        "# Make predictions on the testing set\n",
        "y_pred = clf.predict(X_test)\n",
        "\n",
        "# Evaluate model performance\n",
        "accuracy = accuracy_score(y_test, y_pred)\n",
        "print(\"Accuracy:\", accuracy)\n",
        "\n"
      ]
    }
  ]
}